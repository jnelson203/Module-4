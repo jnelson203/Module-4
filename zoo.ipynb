{
 "cells": [
  {
   "cell_type": "code",
   "execution_count": null,
   "id": "94b0b5ed-d026-4207-9adf-55655f82c2bf",
   "metadata": {},
   "outputs": [],
   "source": [
    "# zoo.py\n",
    "\n",
    "def hours():\n",
    "    print(\"Open 9-5 daily\")\n",
    "    \n",
    ">>> import zoo\n",
    ">>> zoo.hours()\n",
    "Open 9-5 daily\n"
   ]
  },
  {
   "cell_type": "code",
   "execution_count": null,
   "id": "fc74a604-0665-4f35-81f8-f26318038779",
   "metadata": {},
   "outputs": [],
   "source": [
    ">>> import zoo as menagerie\n",
    ">>> menagerie.hours()\n",
    "Open 9-5 daily"
   ]
  },
  {
   "cell_type": "code",
   "execution_count": null,
   "id": "83398b47-2b09-4781-8c8f-816fab754f23",
   "metadata": {},
   "outputs": [],
   "source": []
  }
 ],
 "metadata": {
  "kernelspec": {
   "display_name": "Python 3 (ipykernel)",
   "language": "python",
   "name": "python3"
  },
  "language_info": {
   "codemirror_mode": {
    "name": "ipython",
    "version": 3
   },
   "file_extension": ".py",
   "mimetype": "text/x-python",
   "name": "python",
   "nbconvert_exporter": "python",
   "pygments_lexer": "ipython3",
   "version": "3.12.7"
  }
 },
 "nbformat": 4,
 "nbformat_minor": 5
}
